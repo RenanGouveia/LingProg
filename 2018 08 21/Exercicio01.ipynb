{
 "cells": [
  {
   "cell_type": "markdown",
   "metadata": {},
   "source": [
    "1. Faça um Programa que peça o raio de um círculo, calcule e mostre sua área.\n"
   ]
  },
  {
   "cell_type": "code",
   "execution_count": 5,
   "metadata": {},
   "outputs": [
    {
     "name": "stdout",
     "output_type": "stream",
     "text": [
      "Digite o raio do círculo 20\n",
      "1256.0\n"
     ]
    }
   ],
   "source": [
    "raio = int (input(\"Digite o raio do círculo \"))\n",
    "area = 3.14 * raio **2\n",
    "print(\"A área é: %s \" %(area))\n"
   ]
  },
  {
   "cell_type": "markdown",
   "metadata": {},
   "source": [
    "Faça um Programa que calcule a área de um quadrado, em seguida mostre o dobro desta área para o usuário."
   ]
  },
  {
   "cell_type": "code",
   "execution_count": 6,
   "metadata": {},
   "outputs": [
    {
     "name": "stdout",
     "output_type": "stream",
     "text": [
      "Digite o tamanho: 10\n",
      "100\n"
     ]
    }
   ],
   "source": [
    "lado = int(input(\"Digite o tamanho: \"))\n",
    "area = lado * lado\n",
    "print(\"Área : %s \" %(area))"
   ]
  },
  {
   "cell_type": "markdown",
   "metadata": {},
   "source": [
    "Faça um Programa que pergunte quanto você ganha por hora e o número de horas trabalhadas no mês. Calcule e mostre o total do\n",
    "seu salário no referido mês."
   ]
  },
  {
   "cell_type": "code",
   "execution_count": 4,
   "metadata": {},
   "outputs": [
    {
     "name": "stdout",
     "output_type": "stream",
     "text": [
      "Salário por hora 12\n",
      "Horas trabalhadas no mês 220\n",
      "O salário mensal é: 2640 \n"
     ]
    }
   ],
   "source": [
    "salario_hora = float(input('Salário por hora '))\n",
    "horas_mes = float(input('Horas trabalhadas no mês '))\n",
    "salario_mes = salario_hora * horas_mes\n",
    "print(\"O salário mensal é: %s \" %(salario_mes))"
   ]
  },
  {
   "cell_type": "markdown",
   "metadata": {},
   "source": [
    "Faça um Programa que peça a temperatura em graus Farenheit,\n",
    "transforme e mostre a temperatura em graus Celsius. C = (5 * (F-\n",
    "328 / 98."
   ]
  },
  {
   "cell_type": "code",
   "execution_count": 4,
   "metadata": {},
   "outputs": [
    {
     "name": "stdout",
     "output_type": "stream",
     "text": [
      "Digite a temperatura em Farenheit 10\n",
      "-12.222222222222221\n"
     ]
    }
   ],
   "source": [
    "farenheit = float(input('Digite a temperatura em Graus Farenheit '))\n",
    "celsius = ((farenheit-32)/1.8)\n",
    "print(\"Grau Celsius: %s \" %(celsius))"
   ]
  },
  {
   "cell_type": "markdown",
   "metadata": {},
   "source": [
    "Faça um Programa que peça a temperatura em graus Celsius,\n",
    "transforme e mostre em graus Farenheit."
   ]
  },
  {
   "cell_type": "code",
   "execution_count": 3,
   "metadata": {},
   "outputs": [
    {
     "name": "stdout",
     "output_type": "stream",
     "text": [
      "Digite a temperatura em Graus Celsius12\n",
      "Grau Farenheit: 53.6\n"
     ]
    }
   ],
   "source": [
    "celsius = float(input('Digite a temperatura em Graus Celsius'))\n",
    "farenheit = (celsius * 1.8 + 32)\n",
    "print(\"Grau Farenheit: %s \" %(farenheit))"
   ]
  },
  {
   "cell_type": "markdown",
   "metadata": {},
   "source": [
    "Faça um Programa que peça 2 números inteiros e um número\n",
    "real. Calcule e mostre:\n",
    "- o produto do dobro do primeiro com metade do segundo .\n",
    "- a soma do triplo do primeiro com o terceiro.\n",
    "- o terceiro elevado ao cubo."
   ]
  },
  {
   "cell_type": "code",
   "execution_count": 8,
   "metadata": {},
   "outputs": [
    {
     "name": "stdout",
     "output_type": "stream",
     "text": [
      "Digite um número inteiro 2\n",
      "Digite outro número inteiro 5\n",
      "Digite um número real 4\n",
      "10.0\n",
      "10.0\n",
      "64.0\n"
     ]
    }
   ],
   "source": [
    "num_1 = int(input('Digite um número inteiro '))\n",
    "num_2 = int(input('Digite outro número inteiro '))\n",
    "num_real = float(input('Digite um número real '))\n",
    "resposta_1 = (num_1*2) * (num_2/2)\n",
    "resposta_2 = (num_1*3) + num_real\n",
    "resposta_3 = num_real **3\n",
    "print(\"produto do dobro do primeiro com metade do segundo: %s \" %(resposta_1))\n",
    "print(\"soma do triplo do primeiro com o terceiro: %s \" %(resposta_2))\n",
    "print(\"terceiro elevado ao cubo: %s \" %(resposta_3))\n"
   ]
  },
  {
   "cell_type": "markdown",
   "metadata": {},
   "source": [
    "João Papo-de-Pescador, homem de bem, comprou um\n",
    "microcomputador para controlar o rendimento diário de seu\n",
    "trabalho. Toda vez que ele traz um peso de peixes maior que o\n",
    "estabelecido pelo regulamento de pesca do estado de São Paulo (50\n",
    "quilos) deve pagar uma multa de R$ 4,00 por quilo excedente. João\n",
    "precisa que você faça um programa que leia a variável peso (peso\n",
    "de peixes) e verifque se há excesso. Se houver, gravar na variável\n",
    "excesso e na variável multa o valor da multa que João deverá pagar.\n",
    "Caso contrário mostrar tais variáveis com o conteúdo ZERO."
   ]
  },
  {
   "cell_type": "code",
   "execution_count": 7,
   "metadata": {},
   "outputs": [
    {
     "name": "stdout",
     "output_type": "stream",
     "text": [
      "Digite o rendimento do trabalho em Kilos: 82.6\n",
      "Excedeu: 32.599999999999994\n",
      "Multa de: 130.39999999999998 \n"
     ]
    }
   ],
   "source": [
    "peso = float(input('Digite o rendimento do trabalho em Kilos: '))\n",
    "limite = 50\n",
    "taxa = 4.00\n",
    "excesso = peso-limite\n",
    "if excesso > 0:\n",
    "    valor_multa = excesso * taxa\n",
    "    print(\"Excedeu: %s\" %(excesso))\n",
    "    print(\"Multa de: %s \" %(valor_multa))\n",
    "else:\n",
    "    valor_multa = 0\n",
    "    excesso = 0\n",
    "    print(\"Excedeu: %s\" %(excesso))\n",
    "    print(\"Multa de: %s \" %(valor_multa))\n"
   ]
  },
  {
   "cell_type": "markdown",
   "metadata": {},
   "source": [
    "Faça um Programa que pergunte quanto você ganha por hora e o\n",
    "número de horas trabalhadas no mês. Calcule e mostre o total do\n",
    "seu salário no referido mês, sabendo-se que são descontados 11%\n",
    "para o Imposto de Renda, 8% para o INSS e 5% para o sindicato,\n",
    "faça um programa que nos dê:\n",
    "- salário bruto.\n",
    "- quanto pagou ao INSS.\n",
    "- quanto pagou ao sindicato.\n",
    "- o salário líquido.\n",
    "- calcule os descontos e o salário líquido, conforme a tabela abaixo:\n",
    "+ Salário Bruto : R$\n",
    "- IR (11%8 : R$\n",
    "- INSS (8%8 : R$\n",
    "- Sindicato ( 5%8 : R$\n",
    "= Salário Liquido : R$\n",
    "Obs.: Salário Bruto - Descontos = Salário Líquido."
   ]
  },
  {
   "cell_type": "code",
   "execution_count": 1,
   "metadata": {},
   "outputs": [
    {
     "name": "stdout",
     "output_type": "stream",
     "text": [
      "Digite horas trabalhadas: 200\n",
      "Digite o salário por hora: 24\n",
      "Salário Bruto: 4800.0 \n",
      "Salário Líquido: 3648.0 \n",
      "INSS: 384.0 , Sindicato: 240.0 e IR: 528.0 \n"
     ]
    }
   ],
   "source": [
    "hora_trabalhada = float(input(\"Digite horas trabalhadas: \"))\n",
    "salario_hora = float(input(\"Digite o salário por hora: \"))\n",
    "salario_bruto = hora_trabalhada * salario_hora\n",
    "inss = 0.08 \n",
    "ir = 0.11\n",
    "sindicato = 0.05\n",
    "vl_sindicato = salario_bruto*sindicato\n",
    "vl_inss = salario_bruto*inss\n",
    "vl_ir = salario_bruto*ir\n",
    "salario = salario_bruto - (vl_inss+vl_ir+vl_sindicato)\n",
    "print(\"Salário Bruto: %s \"%(salario_bruto))\n",
    "print(\"Salário Líquido: %s \" %(salario))\n",
    "print(\"INSS: %s \" %(vl_inss) + \", Sindicato: %s \" %(vl_sindicato) + \"e IR: %s \" %(vl_ir))\n"
   ]
  },
  {
   "cell_type": "markdown",
   "metadata": {},
   "source": [
    "Faça um programa que leia 2 strings e informe o conteúdo delas\n",
    "seguido do seu comprimento. Informe também se as duas strings\n",
    "possuem o mesmo comprimento e são iguais ou diferentes no\n",
    "conteúdo.\n",
    "Exemplo:\n",
    "String 1: Brasil Hexa 2018\n",
    "String 2: Brasil! Hexa 2018!\n",
    "Tamanho de \"Brasil Hexa 2018\": 16 caracteres\n",
    "Tamanho de \"Brasil! Hexa 2018!\": 18 caracteres\n",
    "As duas strings são de tamanhos diferentes.\n",
    "As duas strings possuem conteúdo diferente."
   ]
  },
  {
   "cell_type": "code",
   "execution_count": 10,
   "metadata": {},
   "outputs": [
    {
     "name": "stdout",
     "output_type": "stream",
     "text": [
      "Primeira String: Teste\n",
      "Segunda String: Teste\n",
      "Tamanho igual: Primeira 5  e Segunda 5 \n",
      "Primeira string Teste\n",
      "Segunda string Teste\n"
     ]
    }
   ],
   "source": [
    "string_1 = str(input(\"Primeira String: \"))\n",
    "string_2 = str(input(\"Segunda String: \"))\n",
    "tamanho_1 = int(len(string_1))\n",
    "tamanho_2 = int(len(string_2))\n",
    "string_1[0:len(string_1)]\n",
    "string_2[0:len(string_2)]\n",
    "if (tamanho_1 > tamanho_2) or (tamanho_2 > tamanho_1):\n",
    "    print(\"Tamanhos diferentes: Primeira %s \" %(tamanho_1) + \" e Segunda %s\" %(tamanho_2))\n",
    "    print(\"Primeira string \" + string_1[0:tamanho_1])\n",
    "    print(\"Segunda string \" + string_2[0:tamanho_2])\n",
    "    \n",
    "elif tamanho_1 == tamanho_2:\n",
    "    print(\"Tamanho igual: Primeira %s \" %(tamanho_1) + \" e Segunda %s \" %(tamanho_2))\n",
    "    print(\"Primeira string: \" + string_1[0:tamanho_1])\n",
    "    print(\"Segunda string: \" + string_1[0:tamanho_2])\n",
    "    \n"
   ]
  },
  {
   "cell_type": "markdown",
   "metadata": {},
   "source": [
    "Faça um programa que permita ao usuário digitar o seu nome e\n",
    "em seguida mostre o nome do usuário de trás para frente utilizando somente letras maiúsculas. Dica: lembre−se que ao informar o\n",
    "nome o usuário pode digitar letras maiúsculas ou minúsculas.\n",
    "Observação: não use loops."
   ]
  },
  {
   "cell_type": "code",
   "execution_count": null,
   "metadata": {},
   "outputs": [],
   "source": [
    "nome = str(input(\"Digite seu nome, em letra maiúscula ou minúscula: \"))\n",
    "nome[::-1].upper()\n"
   ]
  },
  {
   "cell_type": "markdown",
   "metadata": {},
   "source": [
    "Faça um programa que solicite a data de nascimento\n",
    "(dd/mm/aaaa) do usuário e imprima a data com o nome do mês por\n",
    "extenso.\n",
    "Data de Nascimento: 29/10/1973\n",
    "Você nasceu em 29 de Outubro de 1973.\n",
    "Obs.: Não use desvio condicional nem loops."
   ]
  },
  {
   "cell_type": "code",
   "execution_count": 18,
   "metadata": {},
   "outputs": [
    {
     "name": "stdout",
     "output_type": "stream",
     "text": [
      "Digite a data de nascimento no padrão dd/MM/YYYY: 22/09/1997\n",
      "Você nasceu em: 22 de setembro de 1997. \n"
     ]
    }
   ],
   "source": [
    "import locale\n",
    "from datetime import datetime\n",
    "\n",
    "locale.setlocale(locale.LC_TIME, 'pt_BR.UTF-8')\n",
    "\n",
    "\n",
    "date_string = input('Digite a data de nascimento no padrão dd/MM/YYYY: ')\n",
    "date = datetime.strptime(date_string, '%d/%m/%Y')\n",
    "print(\"Você nasceu em: %s. \" %(date.strftime('%d de %B de %Y')))\n"
   ]
  },
  {
   "cell_type": "markdown",
   "metadata": {},
   "source": [
    "Leet é uma forma de se escrever o alfabeto latino usando outros\n",
    "símbolos em lugar das letras, como números por exemplo. A própria\n",
    "palavra leet admite muitas variações, como l33t ou 1337. O uso do\n",
    "leet reflete uma subcultura relacionada ao mundo dos jogos de\n",
    "computador e internet, sendo muito usada para confundir os\n",
    "iniciantes e afrmar-se como parte de um grupo. Pesquise sobre as\n",
    "principais formas de traduzir as letras. Depois, faça um programa\n",
    "que peça uma texto e transforme-o para a grafa leet speak.\n",
    "Desafo: não use loops nem desvios condicionais."
   ]
  },
  {
   "cell_type": "code",
   "execution_count": 11,
   "metadata": {},
   "outputs": [
    {
     "name": "stdout",
     "output_type": "stream",
     "text": [
      "Digite alguma frase: Teste muito louco\n",
      "T3st3 m85t9 l98c9\n"
     ]
    }
   ],
   "source": [
    "mensagem = input(\"Digite alguma frase: \")\n",
    "\n",
    "formatar = mensagem.translate(bytes.maketrans(b'aeiou', b'03598'))\n",
    "\n",
    "print(formatar)"
   ]
  }
 ],
 "metadata": {
  "kernelspec": {
   "display_name": "Python 3",
   "language": "python",
   "name": "python3"
  },
  "language_info": {
   "codemirror_mode": {
    "name": "ipython",
    "version": 3
   },
   "file_extension": ".py",
   "mimetype": "text/x-python",
   "name": "python",
   "nbconvert_exporter": "python",
   "pygments_lexer": "ipython3",
   "version": "3.6.4"
  }
 },
 "nbformat": 4,
 "nbformat_minor": 2
}
